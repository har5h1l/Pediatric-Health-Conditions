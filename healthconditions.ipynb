{
  "cells": [
    {
      "cell_type": "markdown",
      "id": "61a44f38",
      "metadata": {
        "id": "61a44f38"
      },
      "source": [
        "\n",
        "\n",
        "```\n",
        "# This is formatted as code\n",
        "```\n",
        "\n",
        "# Pediatric Health Conditions Analysis"
      ]
    },
    {
      "cell_type": "markdown",
      "id": "8abfed53",
      "metadata": {
        "id": "8abfed53"
      },
      "source": [
        "Analysis of [\"Health conditions among children under 18 years\"](https://www.kaggle.com/datasets/cdc/health-conditions-among-children-under-18-years/data) dataset from CDC."
      ]
    },
    {
      "cell_type": "markdown",
      "source": [
        "## Data Preprocessing"
      ],
      "metadata": {
        "id": "IS0-2sWFNLrc"
      },
      "id": "IS0-2sWFNLrc"
    },
    {
      "cell_type": "code",
      "source": [],
      "metadata": {
        "id": "5S7f5YBHNKf4"
      },
      "id": "5S7f5YBHNKf4",
      "execution_count": null,
      "outputs": []
    }
  ],
  "metadata": {
    "language_info": {
      "name": "python"
    },
    "colab": {
      "provenance": []
    }
  },
  "nbformat": 4,
  "nbformat_minor": 5
}